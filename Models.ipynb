{
 "cells": [
  {
   "cell_type": "code",
   "execution_count": 1,
   "id": "35f33ccf",
   "metadata": {},
   "outputs": [
    {
     "name": "stderr",
     "output_type": "stream",
     "text": [
      "/Users/jordan/anaconda3/envs/challengeQRT/lib/python3.12/site-packages/tqdm/auto.py:21: TqdmWarning: IProgress not found. Please update jupyter and ipywidgets. See https://ipywidgets.readthedocs.io/en/stable/user_install.html\n",
      "  from .autonotebook import tqdm as notebook_tqdm\n"
     ]
    },
    {
     "data": {
      "text/html": [
       "        <script type=\"text/javascript\">\n",
       "        window.PlotlyConfig = {MathJaxConfig: 'local'};\n",
       "        if (window.MathJax && window.MathJax.Hub && window.MathJax.Hub.Config) {window.MathJax.Hub.Config({SVG: {font: \"STIX-Web\"}});}\n",
       "        if (typeof require !== 'undefined') {\n",
       "        require.undef(\"plotly\");\n",
       "        requirejs.config({\n",
       "            paths: {\n",
       "                'plotly': ['https://cdn.plot.ly/plotly-2.29.1.min']\n",
       "            }\n",
       "        });\n",
       "        require(['plotly'], function(Plotly) {\n",
       "            window._Plotly = Plotly;\n",
       "        });\n",
       "        }\n",
       "        </script>\n",
       "        "
      ]
     },
     "metadata": {},
     "output_type": "display_data"
    }
   ],
   "source": [
    "%load_ext autoreload\n",
    "%autoreload 2\n",
    "\n",
    "import numpy as np\n",
    "import pandas as pd \n",
    "pd.set_option('display.max_columns', None)\n",
    "import seaborn as sns\n",
    "import matplotlib.pyplot as plt\n",
    "from sklearn.model_selection import train_test_split\n",
    "from hyperparameter_tuning import *\n",
    "\n",
    "from plotly.offline import init_notebook_mode, iplot\n",
    "init_notebook_mode(connected=True)  \n",
    "\n",
    "from sklearn.preprocessing import StandardScaler\n",
    "from hyperparameter_tuning import *\n",
    "import os\n",
    "import lightgbm as lgb\n",
    "\n",
    "from sklearn.linear_model import LinearRegression, LogisticRegression"
   ]
  },
  {
   "cell_type": "code",
   "execution_count": 2,
   "id": "3dcd728f",
   "metadata": {},
   "outputs": [],
   "source": [
    "def calculate_nan_percentage(dataframe):\n",
    "    # Count the number of NaN values in each column\n",
    "    nan_counts = dataframe.isna().sum()\n",
    "\n",
    "    # Calculate the percentage of NaN values in each column\n",
    "    nan_percentage = (nan_counts / len(dataframe)) * 100\n",
    "\n",
    "    return nan_percentage.sort_values(ascending=False)"
   ]
  },
  {
   "cell_type": "code",
   "execution_count": 3,
   "id": "7e20930f",
   "metadata": {},
   "outputs": [],
   "source": [
    "def plot_N_best_features(model, feature_names, N):\n",
    "    # Extract feature importances\n",
    "    feature_importance_values = model.feature_importances_\n",
    "\n",
    "    # Create a DataFrame using feature names and their importances\n",
    "    features_df = pd.DataFrame({'feature': feature_names, 'importance': feature_importance_values})\n",
    "\n",
    "    # Sort features based on importance\n",
    "    features_df = features_df.sort_values(by='importance', ascending=False)\n",
    "\n",
    "    # Select the top N important features\n",
    "    top_features_df = features_df.head(N)\n",
    "\n",
    "    # Plotting\n",
    "    plt.figure(figsize=(10, 6))\n",
    "    plt.barh(top_features_df['feature'], top_features_df['importance'], color='skyblue')\n",
    "    plt.xlabel('Importance')\n",
    "    plt.ylabel('Feature')\n",
    "    plt.title(f'Top {N} Feature Importances')\n",
    "    plt.gca().invert_yaxis()  # Invert y-axis to have the most important feature on top\n",
    "    plt.show()\n",
    "    return top_features_df\n",
    "# Assuming feature_names is a list of your feature names\n"
   ]
  },
  {
   "cell_type": "code",
   "execution_count": 4,
   "id": "53afed92",
   "metadata": {},
   "outputs": [],
   "source": [
    "data_team_home=pd.read_csv('X_data_team_home_preproc.csv',index_col='ID')\n",
    "data_team_away=pd.read_csv('X_data_team_away_preproc.csv',index_col='ID')\n",
    "data_player_home=pd.read_csv('X_data_home_player_preproc.csv',index_col='ID')\n",
    "data_player_away=pd.read_csv('X_data_away_player_preproc.csv',index_col='ID')"
   ]
  },
  {
   "cell_type": "code",
   "execution_count": 5,
   "id": "a6f046ef",
   "metadata": {},
   "outputs": [],
   "source": [
    "data_team_home_test=pd.read_csv('X_data_team_home_test_preproc.csv',index_col='ID')\n",
    "data_player_home_test=pd.read_csv('X_data_home_player_test_preproc.csv',index_col='ID')"
   ]
  },
  {
   "cell_type": "code",
   "execution_count": 6,
   "id": "80ecb4a9",
   "metadata": {},
   "outputs": [],
   "source": [
    "Y_data_train=pd.read_csv('Y_train_1rknArQ.csv',index_col='ID')  \n",
    "Y_data_train_score=pd.read_csv(r'data/Y_train_supp.csv',index_col='ID') "
   ]
  },
  {
   "cell_type": "code",
   "execution_count": 7,
   "id": "a5d1c40f",
   "metadata": {},
   "outputs": [
    {
     "data": {
      "text/html": [
       "<div>\n",
       "<style scoped>\n",
       "    .dataframe tbody tr th:only-of-type {\n",
       "        vertical-align: middle;\n",
       "    }\n",
       "\n",
       "    .dataframe tbody tr th {\n",
       "        vertical-align: top;\n",
       "    }\n",
       "\n",
       "    .dataframe thead th {\n",
       "        text-align: right;\n",
       "    }\n",
       "</style>\n",
       "<table border=\"1\" class=\"dataframe\">\n",
       "  <thead>\n",
       "    <tr style=\"text-align: right;\">\n",
       "      <th></th>\n",
       "      <th>TARGET</th>\n",
       "    </tr>\n",
       "    <tr>\n",
       "      <th>ID</th>\n",
       "      <th></th>\n",
       "    </tr>\n",
       "  </thead>\n",
       "  <tbody>\n",
       "    <tr>\n",
       "      <th>0</th>\n",
       "      <td>-1</td>\n",
       "    </tr>\n",
       "    <tr>\n",
       "      <th>1</th>\n",
       "      <td>0</td>\n",
       "    </tr>\n",
       "    <tr>\n",
       "      <th>2</th>\n",
       "      <td>-1</td>\n",
       "    </tr>\n",
       "    <tr>\n",
       "      <th>3</th>\n",
       "      <td>1</td>\n",
       "    </tr>\n",
       "    <tr>\n",
       "      <th>4</th>\n",
       "      <td>0</td>\n",
       "    </tr>\n",
       "    <tr>\n",
       "      <th>...</th>\n",
       "      <td>...</td>\n",
       "    </tr>\n",
       "    <tr>\n",
       "      <th>12298</th>\n",
       "      <td>-1</td>\n",
       "    </tr>\n",
       "    <tr>\n",
       "      <th>12299</th>\n",
       "      <td>-1</td>\n",
       "    </tr>\n",
       "    <tr>\n",
       "      <th>12300</th>\n",
       "      <td>-1</td>\n",
       "    </tr>\n",
       "    <tr>\n",
       "      <th>12301</th>\n",
       "      <td>1</td>\n",
       "    </tr>\n",
       "    <tr>\n",
       "      <th>12302</th>\n",
       "      <td>1</td>\n",
       "    </tr>\n",
       "  </tbody>\n",
       "</table>\n",
       "<p>12303 rows × 1 columns</p>\n",
       "</div>"
      ],
      "text/plain": [
       "       TARGET\n",
       "ID           \n",
       "0          -1\n",
       "1           0\n",
       "2          -1\n",
       "3           1\n",
       "4           0\n",
       "...       ...\n",
       "12298      -1\n",
       "12299      -1\n",
       "12300      -1\n",
       "12301       1\n",
       "12302       1\n",
       "\n",
       "[12303 rows x 1 columns]"
      ]
     },
     "execution_count": 7,
     "metadata": {},
     "output_type": "execute_result"
    }
   ],
   "source": [
    "Y_data_train_1=Y_data_train['HOME_WINS']-Y_data_train['AWAY_WINS']\n",
    "Y_data_train_1=pd.DataFrame(Y_data_train_1,columns=['TARGET'])\n",
    "Y_data_train_1"
   ]
  },
  {
   "cell_type": "code",
   "execution_count": 21,
   "id": "8b4a2f07",
   "metadata": {},
   "outputs": [
    {
     "data": {
      "text/plain": [
       "(array([1.000e+00, 0.000e+00, 0.000e+00, 0.000e+00, 0.000e+00, 0.000e+00,\n",
       "        0.000e+00, 0.000e+00, 1.000e+00, 0.000e+00, 1.000e+00, 0.000e+00,\n",
       "        0.000e+00, 5.000e+00, 0.000e+00, 1.000e+01, 0.000e+00, 3.500e+01,\n",
       "        0.000e+00, 1.690e+02, 0.000e+00, 4.270e+02, 0.000e+00, 9.920e+02,\n",
       "        0.000e+00, 0.000e+00, 2.120e+03, 0.000e+00, 3.186e+03, 0.000e+00,\n",
       "        2.702e+03, 0.000e+00, 1.495e+03, 0.000e+00, 7.320e+02, 0.000e+00,\n",
       "        2.970e+02, 0.000e+00, 0.000e+00, 9.400e+01, 0.000e+00, 2.700e+01,\n",
       "        0.000e+00, 3.000e+00, 0.000e+00, 3.000e+00, 0.000e+00, 2.000e+00,\n",
       "        0.000e+00, 1.000e+00]),\n",
       " array([-13.  , -12.54, -12.08, -11.62, -11.16, -10.7 , -10.24,  -9.78,\n",
       "         -9.32,  -8.86,  -8.4 ,  -7.94,  -7.48,  -7.02,  -6.56,  -6.1 ,\n",
       "         -5.64,  -5.18,  -4.72,  -4.26,  -3.8 ,  -3.34,  -2.88,  -2.42,\n",
       "         -1.96,  -1.5 ,  -1.04,  -0.58,  -0.12,   0.34,   0.8 ,   1.26,\n",
       "          1.72,   2.18,   2.64,   3.1 ,   3.56,   4.02,   4.48,   4.94,\n",
       "          5.4 ,   5.86,   6.32,   6.78,   7.24,   7.7 ,   8.16,   8.62,\n",
       "          9.08,   9.54,  10.  ]),\n",
       " <BarContainer object of 50 artists>)"
      ]
     },
     "execution_count": 21,
     "metadata": {},
     "output_type": "execute_result"
    },
    {
     "data": {
      "image/png": "[encoded data removed]",
      "text/plain": [
       "<Figure size 640x480 with 1 Axes>"
      ]
     },
     "metadata": {},
     "output_type": "display_data"
    }
   ],
   "source": [
    "Y_data_train_score_01 = Y_data_train_score['GOAL_DIFF_HOME_AWAY'].apply(lambda x: 0 if x in [-1,0,1] else (1 if x <= -1 else 1))\n",
    "plt.hist(Y_data_train_score,bins=50)\n",
    "# plt.xticks([0, 1], ['Score -1, 0, 1', 'Absolute value score >= 2'])"
   ]
  },
  {
   "cell_type": "code",
   "execution_count": 9,
   "id": "40924eec",
   "metadata": {},
   "outputs": [],
   "source": [
    "Y_concat=pd.merge(Y_data_train_1,Y_data_train_score_01,on='ID',how='left')"
   ]
  },
  {
   "cell_type": "code",
   "execution_count": 10,
   "id": "4109b0ee",
   "metadata": {},
   "outputs": [
    {
     "data": {
      "text/plain": [
       "0.6587011298057385"
      ]
     },
     "execution_count": 10,
     "metadata": {},
     "output_type": "execute_result"
    }
   ],
   "source": [
    "np.abs(Y_data_train_1['TARGET']-Y_data_train_score_01).sum()/len(Y_data_train_1)"
   ]
  },
  {
   "cell_type": "code",
   "execution_count": 11,
   "id": "88581b34",
   "metadata": {},
   "outputs": [],
   "source": [
    "X_train=data_team_home#.drop(columns=['LEAGUE','TEAM_NAME'])"
   ]
  },
  {
   "cell_type": "code",
   "execution_count": 12,
   "id": "7698a542",
   "metadata": {
    "scrolled": true
   },
   "outputs": [],
   "source": [
    "# clf_team_home,study_team_home=run_study(X_train,Y_data_train_score['GOAL_DIFF_HOME_AWAY'].values,n_trials=100, n_jobs=2)\n"
   ]
  },
  {
   "cell_type": "code",
   "execution_count": 13,
   "id": "55a0fc6b",
   "metadata": {},
   "outputs": [
    {
     "ename": "NameError",
     "evalue": "name 'clf_team_home' is not defined",
     "output_type": "error",
     "traceback": [
      "\u001b[0;31m---------------------------------------------------------------------------\u001b[0m",
      "\u001b[0;31mNameError\u001b[0m                                 Traceback (most recent call last)",
      "Cell \u001b[0;32mIn[13], line 2\u001b[0m\n\u001b[1;32m      1\u001b[0m feature_names \u001b[38;5;241m=\u001b[39m X_train\u001b[38;5;241m.\u001b[39mdrop(columns\u001b[38;5;241m=\u001b[39m[\u001b[38;5;124m'\u001b[39m\u001b[38;5;124mLEAGUE\u001b[39m\u001b[38;5;124m'\u001b[39m,\u001b[38;5;124m'\u001b[39m\u001b[38;5;124mTEAM_NAME\u001b[39m\u001b[38;5;124m'\u001b[39m])\u001b[38;5;241m.\u001b[39mcolumns \u001b[38;5;66;03m# Fill in with your feature names\u001b[39;00m\n\u001b[0;32m----> 2\u001b[0m selected_features\u001b[38;5;241m=\u001b[39mplot_N_best_features(clf_team_home, feature_names,N\u001b[38;5;241m=\u001b[39m\u001b[38;5;241m20\u001b[39m)\n",
      "\u001b[0;31mNameError\u001b[0m: name 'clf_team_home' is not defined"
     ]
    }
   ],
   "source": [
    "feature_names = X_train.drop(columns=['LEAGUE','TEAM_NAME']).columns # Fill in with your feature names\n",
    "selected_features=plot_N_best_features(clf_team_home, feature_names,N=20)"
   ]
  },
  {
   "cell_type": "markdown",
   "id": "1eeb922f",
   "metadata": {},
   "source": [
    "## JE M'OCCUPE DES PLAYERS RATINGS"
   ]
  },
  {
   "cell_type": "code",
   "execution_count": null,
   "id": "eb0d17b1",
   "metadata": {},
   "outputs": [],
   "source": [
    "def fill_pivot(data_set):\n",
    "    for index, row in data_set.iterrows():\n",
    "        # Check if any cell in the row contains NaN\n",
    "        if row.isnull().any():\n",
    "            # Replace NaN values with the value from the first column of the same row\n",
    "            data_set.loc[index] = row.fillna(row[0])\n",
    "#     data_set=data_set.drop(columns='0')\n",
    "    return data_set"
   ]
  },
  {
   "cell_type": "code",
   "execution_count": null,
   "id": "defdcba0",
   "metadata": {},
   "outputs": [],
   "source": [
    "group1=data_player_home[['POSITION','PLAYER_RATING_season_std','PLAYER_RATING_5_last_match_average']].groupby(['ID', 'POSITION']).mean().reset_index().set_index('ID')\n"
   ]
  },
  {
   "cell_type": "code",
   "execution_count": null,
   "id": "5880c9f7",
   "metadata": {},
   "outputs": [],
   "source": [
    "group2=data_player_home_test[['POSITION','PLAYER_RATING_season_std','PLAYER_RATING_5_last_match_average']].groupby(['ID', 'POSITION']).mean().reset_index().set_index('ID')\n",
    "group2"
   ]
  },
  {
   "cell_type": "code",
   "execution_count": null,
   "id": "80b488bf",
   "metadata": {},
   "outputs": [],
   "source": [
    "data0=group1.pivot_table(index='ID', columns='POSITION')#, values='PLAYER_RATING_5_last_match_average')\n",
    "data0"
   ]
  },
  {
   "cell_type": "code",
   "execution_count": null,
   "id": "1cf33400",
   "metadata": {},
   "outputs": [],
   "source": [
    "data_test0=group2.pivot_table(index='ID', columns='POSITION')#, values='PLAYER_RATING_5_last_match_average')\n",
    "data_test0"
   ]
  },
  {
   "cell_type": "code",
   "execution_count": null,
   "id": "e8eac36c",
   "metadata": {},
   "outputs": [],
   "source": [
    "data_test0['PLAYER_RATING_5_last_match_average']=fill_pivot(data_test0['PLAYER_RATING_5_last_match_average'])\n",
    "data_test0['PLAYER_RATING_season_std']=fill_pivot(data_test0['PLAYER_RATING_season_std'])"
   ]
  },
  {
   "cell_type": "code",
   "execution_count": null,
   "id": "305b206a",
   "metadata": {},
   "outputs": [],
   "source": [
    "rows_with_more_than_2_nan = data_test0[data_test0.isnull().sum(axis=1) > 2]\n",
    "\n",
    "# If there are any such rows, print their indices\n",
    "if not rows_with_more_than_2_nan.empty:\n",
    "    print(\"Rows with more than 2 NaN values:\")\n",
    "    print(rows_with_more_than_2_nan.index)\n",
    "else:\n",
    "    print(\"No rows with more than 2 NaN values.\")"
   ]
  },
  {
   "cell_type": "code",
   "execution_count": null,
   "id": "6aff4c8c",
   "metadata": {},
   "outputs": [],
   "source": [
    "group2.loc[13884,:]"
   ]
  },
  {
   "cell_type": "code",
   "execution_count": null,
   "id": "798639ea",
   "metadata": {},
   "outputs": [],
   "source": [
    "data0.columns = data0.columns.map('_'.join)\n",
    "# Or with an explicit format string like:\n",
    "# new_df.columns = new_df.columns.map('{0[0]}_{0[1]}'.format)\n",
    "data0 = data0.reset_index()"
   ]
  },
  {
   "cell_type": "code",
   "execution_count": null,
   "id": "179b1445",
   "metadata": {},
   "outputs": [],
   "source": [
    "data_test0.columns = data_test0.columns.map('_'.join)\n",
    "# Or with an explicit format string like:\n",
    "# new_df.columns = new_df.columns.map('{0[0]}_{0[1]}'.format)\n",
    "data_test0 = data_test0.reset_index()"
   ]
  },
  {
   "cell_type": "code",
   "execution_count": null,
   "id": "5f4cc95a",
   "metadata": {},
   "outputs": [],
   "source": [
    "player_rating=data0.drop(columns=['PLAYER_RATING_5_last_match_average_0','PLAYER_RATING_season_std_0']).set_index('ID')\n"
   ]
  },
  {
   "cell_type": "code",
   "execution_count": null,
   "id": "676048b3",
   "metadata": {},
   "outputs": [],
   "source": [
    "player_rating_test=data_test0.drop(columns=['PLAYER_RATING_5_last_match_average_0','PLAYER_RATING_season_std_0']).set_index('ID')\n"
   ]
  },
  {
   "cell_type": "markdown",
   "id": "eb83e73b",
   "metadata": {},
   "source": [
    "## FIN PLAYER RATING"
   ]
  },
  {
   "cell_type": "code",
   "execution_count": null,
   "id": "aec6d0a2",
   "metadata": {},
   "outputs": [],
   "source": [
    "X_train = pd.merge(data_team_home, player_rating/10, on='ID', how='left')"
   ]
  },
  {
   "cell_type": "code",
   "execution_count": null,
   "id": "8524b2d9",
   "metadata": {},
   "outputs": [],
   "source": [
    "X_test = pd.merge(data_team_home_test, player_rating_test/10, on='ID', how='left')"
   ]
  },
  {
   "cell_type": "code",
   "execution_count": null,
   "id": "ac7b6d35",
   "metadata": {},
   "outputs": [],
   "source": [
    "train_features=list(player_rating.columns)+list(selected_features['feature'])+['LEAGUE','TEAM_NAME']"
   ]
  },
  {
   "cell_type": "code",
   "execution_count": null,
   "id": "27b35738",
   "metadata": {},
   "outputs": [],
   "source": [
    "train_features"
   ]
  },
  {
   "cell_type": "code",
   "execution_count": null,
   "id": "0404d0fe",
   "metadata": {},
   "outputs": [],
   "source": [
    "X_test"
   ]
  },
  {
   "cell_type": "code",
   "execution_count": null,
   "id": "93c733e9",
   "metadata": {},
   "outputs": [],
   "source": [
    "#.drop(columns=['LEAGUE','TEAM_NAME'])\n",
    "Xd, Yd = X_train[train_features],Y_data_train_score_01      \n",
    "X_traind, X_testd, Y_traind, Y_testd = train_test_split(Xd,\n",
    "                                                    Yd,\n",
    "                                                    stratify=Y_data_train_score_01,\n",
    "                                                    test_size=0.2,\n",
    "                                                    random_state=10\n",
    "                                                    )"
   ]
  },
  {
   "cell_type": "code",
   "execution_count": null,
   "id": "1db83330",
   "metadata": {
    "scrolled": true
   },
   "outputs": [],
   "source": [
    "clf_player_home,study_player_home=run_study(X_traind,Y_traind.values,n_trials=10, n_jobs=2)\n"
   ]
  },
  {
   "cell_type": "code",
   "execution_count": null,
   "id": "d9c2b5e0",
   "metadata": {
    "scrolled": true
   },
   "outputs": [],
   "source": [
    "np.sum(clf_player_home.predict(X_testd.drop(columns=['LEAGUE','TEAM_NAME']))==Y_testd)/len(X_testd)"
   ]
  },
  {
   "cell_type": "code",
   "execution_count": null,
   "id": "639f4239",
   "metadata": {},
   "outputs": [],
   "source": [
    "idx_wrong_clf=clf_player_home.predict(X_testd.drop(columns=['LEAGUE','TEAM_NAME']))!=Y_testd"
   ]
  },
  {
   "cell_type": "code",
   "execution_count": null,
   "id": "7749bf51",
   "metadata": {},
   "outputs": [],
   "source": [
    "Y_testd[idx_wrong_clf]"
   ]
  },
  {
   "cell_type": "code",
   "execution_count": null,
   "id": "31ac448b",
   "metadata": {},
   "outputs": [],
   "source": [
    "plt.hist(clf_player_home.predict(X_testd.drop(columns=['LEAGUE','TEAM_NAME'])))"
   ]
  },
  {
   "cell_type": "code",
   "execution_count": null,
   "id": "9d68c997",
   "metadata": {},
   "outputs": [],
   "source": [
    "feature_names = X_train[train_features].drop(columns=['LEAGUE','TEAM_NAME']).columns # Fill in with your feature names\n",
    "selected_features2=plot_N_best_features(clf_player_home, feature_names,N=20)"
   ]
  },
  {
   "cell_type": "code",
   "execution_count": null,
   "id": "b603fca9",
   "metadata": {},
   "outputs": [],
   "source": [
    "Xd, Yd = X_train[train_features],Y_data_train_1      \n",
    "X_traind, X_testd, Y_traind, Y_testd = train_test_split(Xd,\n",
    "                                                    Yd,\n",
    "                                                    stratify=Y_data_train_score_01,\n",
    "                                                    test_size=0.2,\n",
    "                                                    random_state=10\n",
    "                                                    )\n",
    "\n",
    "clf_team_home,study_team_home=run_study(X_traind,Y_traind['TARGET'].values,n_trials=50, n_jobs=2)"
   ]
  },
  {
   "cell_type": "code",
   "execution_count": null,
   "id": "93ac3804",
   "metadata": {},
   "outputs": [],
   "source": [
    "plt.hist(Y_data_train_score_01)"
   ]
  },
  {
   "cell_type": "code",
   "execution_count": null,
   "id": "9d4b6d5f",
   "metadata": {},
   "outputs": [],
   "source": [
    "\n",
    "class_counts=Y_data_train_score_01.value_counts()\n",
    "for class_label, count in class_counts.items():\n",
    "    print(f\"Class {class_label}: {count} elements\")\n",
    "    \n",
    "weights={k:1e4/v for (k,v) in class_counts.items()}"
   ]
  },
  {
   "cell_type": "code",
   "execution_count": null,
   "id": "326d9427",
   "metadata": {},
   "outputs": [],
   "source": [
    "model_linreg=LogisticRegression(class_weight=weights).fit(X_traind.fillna(0),Y_traind.values)  \n",
    "model_linreg.score(X_traind.fillna(0),Y_traind)"
   ]
  },
  {
   "cell_type": "code",
   "execution_count": null,
   "id": "d71799cb",
   "metadata": {},
   "outputs": [],
   "source": [
    "index_0=Y_data_train_score['GOAL_DIFF_HOME_AWAY']==0"
   ]
  },
  {
   "cell_type": "code",
   "execution_count": null,
   "id": "54240a15",
   "metadata": {},
   "outputs": [],
   "source": [
    "model_linreg.score(Xd[index_0].fillna(0),Y_data_train_score[index_0]['GOAL_DIFF_HOME_AWAY'])"
   ]
  },
  {
   "cell_type": "code",
   "execution_count": null,
   "id": "a5c04ef1",
   "metadata": {},
   "outputs": [],
   "source": []
  },
  {
   "cell_type": "code",
   "execution_count": null,
   "id": "b04961e1",
   "metadata": {},
   "outputs": [],
   "source": []
  },
  {
   "cell_type": "code",
   "execution_count": null,
   "id": "4f4ebca2",
   "metadata": {},
   "outputs": [],
   "source": [
    "index_1=Y_data_train_score['GOAL_DIFF_HOME_AWAY']!=0"
   ]
  },
  {
   "cell_type": "code",
   "execution_count": null,
   "id": "a577f193",
   "metadata": {},
   "outputs": [],
   "source": [
    "Y_data_train_score_02 = Y_data_train_score[index_1]['GOAL_DIFF_HOME_AWAY'].apply(lambda x: 0 if x in [0] else (-1 if x <= -1 else 1))\n",
    "plt.hist(Y_data_train_score_02)"
   ]
  },
  {
   "cell_type": "code",
   "execution_count": null,
   "id": "f9e804b9",
   "metadata": {},
   "outputs": [],
   "source": [
    "class_counts=Y_data_train_score_02.value_counts()\n",
    "for class_label, count in class_counts.items():\n",
    "    print(f\"Class {class_label}: {count} elements\")\n",
    "    \n",
    "weights={k:1e4/v for (k,v) in class_counts.items()}\n",
    "weights"
   ]
  },
  {
   "cell_type": "code",
   "execution_count": null,
   "id": "9dfd88e8",
   "metadata": {},
   "outputs": [],
   "source": [
    "Xd2, Yd2 = X_train[index_1][train_features].drop(columns=['LEAGUE','TEAM_NAME']),Y_data_train_score_02      \n",
    "X_traind2, X_testd2, Y_traind2, Y_testd2 = train_test_split(Xd2,\n",
    "                                                    Yd2,\n",
    "                                                    stratify=Y_data_train_score_02,\n",
    "                                                    test_size=0.5,\n",
    "                                                    random_state=10\n",
    "                                                    )"
   ]
  },
  {
   "cell_type": "code",
   "execution_count": null,
   "id": "85529ec9",
   "metadata": {},
   "outputs": [],
   "source": [
    "model_linreg2=LogisticRegression(class_weight=weights).fit(X_traind2.fillna(0),Y_traind2.values)  \n",
    "print(model_linreg2.score(X_traind2.fillna(0),Y_traind2))\n",
    "print(model_linreg2.score(X_testd2.fillna(0),Y_testd2))"
   ]
  },
  {
   "cell_type": "code",
   "execution_count": null,
   "id": "45bbe4b6",
   "metadata": {},
   "outputs": [],
   "source": [
    "pred0=model_linreg.predict(Xd.fillna(0))\n",
    "idx_wrong=pred0!=Y_data_train_1['TARGET']"
   ]
  },
  {
   "cell_type": "code",
   "execution_count": null,
   "id": "57cf28fe",
   "metadata": {},
   "outputs": [],
   "source": [
    "pred1=model_linreg2.predict(Xd[idx_wrong].fillna(0))"
   ]
  },
  {
   "cell_type": "code",
   "execution_count": null,
   "id": "73dd94df",
   "metadata": {},
   "outputs": [],
   "source": [
    "pred0[idx_wrong]=pred1"
   ]
  },
  {
   "cell_type": "code",
   "execution_count": null,
   "id": "cf5204a8",
   "metadata": {},
   "outputs": [],
   "source": [
    "np.sum(pred0==Y_data_train_1['TARGET'])/len(Y_data_train_1['TARGET'])"
   ]
  },
  {
   "cell_type": "code",
   "execution_count": null,
   "id": "1ab15787",
   "metadata": {},
   "outputs": [],
   "source": [
    "plt.hist(pred0)"
   ]
  },
  {
   "cell_type": "code",
   "execution_count": null,
   "id": "0858a8a9",
   "metadata": {},
   "outputs": [],
   "source": [
    "model_linreg2=LogisticRegression().fit(X_traind.fillna(0),Y_traind.values)\n",
    "model_linreg2.score(X_traind.fillna(0),Y_traind)"
   ]
  },
  {
   "cell_type": "code",
   "execution_count": null,
   "id": "75199185",
   "metadata": {},
   "outputs": [],
   "source": [
    "X_test_adj=X_test[[col for col in train_features if col not in ['LEAGUE', 'TEAM_NAME']]].fillna(0)"
   ]
  },
  {
   "cell_type": "code",
   "execution_count": null,
   "id": "0e094c29",
   "metadata": {},
   "outputs": [],
   "source": [
    "np.sum(np.max(model_linreg.predict_proba(X_test_adj),axis=1)>=0.58)/len(X_test_adj)"
   ]
  },
  {
   "cell_type": "code",
   "execution_count": null,
   "id": "221b84b0",
   "metadata": {},
   "outputs": [],
   "source": [
    "np.sum(np.max(model_linreg.predict_proba(Xd.fillna(0)),axis=1)>=0.58)/len(X_test_adj)"
   ]
  },
  {
   "cell_type": "code",
   "execution_count": null,
   "id": "4109e422",
   "metadata": {},
   "outputs": [],
   "source": [
    "pred_test1=model_linreg.predict(X_test_adj)\n",
    "# index_test_1=pred_test1==1"
   ]
  },
  {
   "cell_type": "code",
   "execution_count": null,
   "id": "0a3b5f4e",
   "metadata": {},
   "outputs": [],
   "source": [
    "idx_test_2=np.max(model_linreg.predict_proba(X_test_adj),axis=1)>=0.6"
   ]
  },
  {
   "cell_type": "code",
   "execution_count": null,
   "id": "d9c4ae7c",
   "metadata": {},
   "outputs": [],
   "source": [
    "plt.hist(pred_test1[idx_test_2])"
   ]
  },
  {
   "cell_type": "code",
   "execution_count": null,
   "id": "a98398b4",
   "metadata": {},
   "outputs": [],
   "source": [
    "pred_test2=model_linreg2.predict(X_test_adj[idx_test_2])\n",
    "pred_test1[idx_test_2]=pred_test2"
   ]
  },
  {
   "cell_type": "code",
   "execution_count": null,
   "id": "7af1cc8c",
   "metadata": {},
   "outputs": [],
   "source": [
    "plt.hist(pred_test1)"
   ]
  },
  {
   "cell_type": "code",
   "execution_count": null,
   "id": "67b4f67a",
   "metadata": {},
   "outputs": [],
   "source": [
    "y_map={'0_1':'HOME_WINS','0_0':'DRAW','0_-1':'AWAY_WINS'}"
   ]
  },
  {
   "cell_type": "code",
   "execution_count": null,
   "id": "ca2538ff",
   "metadata": {},
   "outputs": [],
   "source": [
    "y_submission=pd.get_dummies(pd.DataFrame(pred_test1,index=data_team_home_test.index).astype(str),dtype=int).rename(columns=y_map)[['HOME_WINS','DRAW','AWAY_WINS']]\n",
    "y_submission"
   ]
  },
  {
   "cell_type": "code",
   "execution_count": null,
   "id": "e4cee3af",
   "metadata": {},
   "outputs": [],
   "source": [
    "y_submission.to_csv('Y_test1.csv')"
   ]
  },
  {
   "cell_type": "code",
   "execution_count": null,
   "id": "4c1cf2a4",
   "metadata": {},
   "outputs": [],
   "source": [
    "model_linreg1=LinearRegression().fit(X_traind.fillna(0),Y_traind/maxy)\n",
    "model_linreg1.score(X_traind.fillna(0),Y_traind/maxy)"
   ]
  },
  {
   "cell_type": "code",
   "execution_count": null,
   "id": "3c90dee2",
   "metadata": {},
   "outputs": [],
   "source": [
    "Y_data_train_score['GOAL_DIFF_HOME_AWAY'].value_counts().plot(kind='bar')\n"
   ]
  },
  {
   "cell_type": "code",
   "execution_count": null,
   "id": "d646e649",
   "metadata": {},
   "outputs": [],
   "source": [
    "Y_data_train_score_01 = Y_data_train_score['GOAL_DIFF_HOME_AWAY'].apply(lambda x: 0 if x in [-1, 0, 1] else (-1 if x < -1 else 1))\n"
   ]
  },
  {
   "cell_type": "code",
   "execution_count": null,
   "id": "8530aa69",
   "metadata": {
    "scrolled": false
   },
   "outputs": [],
   "source": [
    "plt.hist(model_linreg.predict(X_traind[list(selected_features['feature'])])*maxy)\n",
    "plt.show()\n",
    "\n",
    "\n",
    "plt.hist(model_linreg1.predict(X_traind.fillna(0))*maxy)\n",
    "plt.show()\n",
    "# df['colour'].value_counts().plot(kind='bar')"
   ]
  },
  {
   "cell_type": "code",
   "execution_count": null,
   "id": "af1b25de",
   "metadata": {},
   "outputs": [],
   "source": [
    "Y_data_train_score['GOAL_DIFF_HOME_AWAY'].hist()"
   ]
  },
  {
   "cell_type": "code",
   "execution_count": null,
   "id": "d07b8a45",
   "metadata": {},
   "outputs": [],
   "source": [
    "plt.plot(Y_traind)"
   ]
  },
  {
   "cell_type": "code",
   "execution_count": null,
   "id": "fe8141a1",
   "metadata": {},
   "outputs": [],
   "source": [
    "clf_player_home.predict(X_train[train_features].drop(columns=['LEAGUE','TEAM_NAME']))"
   ]
  },
  {
   "cell_type": "code",
   "execution_count": null,
   "id": "2cba1b74",
   "metadata": {},
   "outputs": [],
   "source": [
    "Y_data_train_score['GOAL_DIFF_HOME_AWAY'].values"
   ]
  },
  {
   "cell_type": "code",
   "execution_count": null,
   "id": "92078d64",
   "metadata": {},
   "outputs": [],
   "source": [
    "LinearRegression()"
   ]
  },
  {
   "cell_type": "code",
   "execution_count": null,
   "id": "7dd514d2",
   "metadata": {},
   "outputs": [],
   "source": [
    "result=np.sign(clf.predict(X_train.drop(columns=['LEAGUE','TEAM_NAME']))*Y_data_train_score['GOAL_DIFF_HOME_AWAY'].values)  \n"
   ]
  },
  {
   "cell_type": "code",
   "execution_count": null,
   "id": "99f2b59e",
   "metadata": {},
   "outputs": [],
   "source": [
    "np.sum(np.where(result>0.5,1,0))/len(Y_data_train_score)"
   ]
  },
  {
   "cell_type": "code",
   "execution_count": null,
   "id": "490d2573",
   "metadata": {},
   "outputs": [],
   "source": [
    "plt.hist(clf.predict(X_train.drop(columns=['LEAGUE','TEAM_NAME'])),bins=20)"
   ]
  },
  {
   "cell_type": "code",
   "execution_count": null,
   "id": "3ae67ffc",
   "metadata": {},
   "outputs": [],
   "source": [
    "plt.hist(Y_data_train_score['GOAL_DIFF_HOME_AWAY'].values,bins=20)"
   ]
  },
  {
   "cell_type": "code",
   "execution_count": null,
   "id": "1591a917",
   "metadata": {},
   "outputs": [],
   "source": []
  }
 ],
 "metadata": {
  "kernelspec": {
   "display_name": "challengeQRT",
   "language": "python",
   "name": "challengeqrt"
  },
  "language_info": {
   "codemirror_mode": {
    "name": "ipython",
    "version": 3
   },
   "file_extension": ".py",
   "mimetype": "text/x-python",
   "name": "python",
   "nbconvert_exporter": "python",
   "pygments_lexer": "ipython3",
   "version": "3.12.1"
  }
 },
 "nbformat": 4,
 "nbformat_minor": 5
}
