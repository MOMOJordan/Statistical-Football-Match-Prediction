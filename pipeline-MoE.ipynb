{
 "cells": [
  {
   "cell_type": "code",
   "execution_count": 7,
   "metadata": {},
   "outputs": [],
   "source": [
    "import pandas as pd\n",
    "import numpy as np\n",
    "import matplotlib.pyplot as plt\n",
    "import seaborn as sns\n",
    "\n",
    "from sklearn.model_selection import train_test_split\n",
    "from sklearn.linear_model import LogisticRegression\n",
    "from sklearn.svm import SVC\n",
    "from sklearn.naive_bayes import GaussianNB\n",
    "from sklearn.metrics import confusion_matrix\n",
    "from sklearn.decomposition import PCA"
   ]
  },
  {
   "cell_type": "code",
   "execution_count": null,
   "metadata": {},
   "outputs": [],
   "source": []
  },
  {
   "cell_type": "code",
   "execution_count": 8,
   "metadata": {},
   "outputs": [],
   "source": [
    "path_home_team = \"data/Train_Data/train_home_team_statistics_df.csv\"\n",
    "path_away_team = \"data/Train_Data/train_away_team_statistics_df.csv\"\n",
    "\n",
    "path_test_home_team = \"data/Test_Data/test_home_team_statistics_df.csv\"\n",
    "path_test_away_team = \"data/Test_Data/test_away_team_statistics_df.csv\"\n",
    "\n",
    "path_home_team_ratings = \"data/add/train/grouped_players_ratings/data_home_team_ratings.csv\"\n",
    "path_away_team_ratings = \"data/add/train/grouped_players_ratings/data_away_team_ratings.csv\"\n",
    "\n",
    "path_test_home_team_ratings = \"data/add/test/grouped_players_ratings/data_home_team_ratings.csv\"\n",
    "path_test_away_team_ratings = \"data/add/test/grouped_players_ratings/data_away_team_ratings.csv\"\n",
    "\n",
    "path_target_wdl = \"data/Y_train_1rknArQ.csv\" "
   ]
  },
  {
   "cell_type": "code",
   "execution_count": 9,
   "metadata": {},
   "outputs": [],
   "source": [
    "data_home_team = pd.read_csv(path_home_team)\n",
    "data_away_team = pd.read_csv(path_away_team)\n",
    "\n",
    "data_test_home_team = pd.read_csv(path_test_home_team)\n",
    "data_test_away_team = pd.read_csv(path_test_away_team)\n",
    "\n",
    "data_home_team_ratings = pd.read_csv(path_home_team_ratings)\n",
    "data_away_team_ratings = pd.read_csv(path_away_team_ratings)\n",
    "\n",
    "data_test_home_team_ratings = pd.read_csv(path_test_home_team_ratings)\n",
    "data_test_away_team_ratings = pd.read_csv(path_test_away_team_ratings)\n",
    "\n",
    "target_wdl = pd.read_csv(path_target_wdl)"
   ]
  },
  {
   "cell_type": "code",
   "execution_count": 10,
   "metadata": {},
   "outputs": [],
   "source": [
    "Y = target_wdl.HOME_WINS-target_wdl.AWAY_WINS"
   ]
  },
  {
   "cell_type": "code",
   "execution_count": 11,
   "metadata": {},
   "outputs": [],
   "source": [
    "# utils function\n",
    "def softmax(scores):\n",
    "    exp_scores = np.exp(scores)\n",
    "    if scores.shape[0]>1:\n",
    "        probs = exp_scores / np.sum(exp_scores, axis=0)\n",
    "    else:\n",
    "        probs = exp_scores/(1+exp_scores)\n",
    "    return probs\n",
    "\n",
    "def predict_proba(model, X, mode = None):\n",
    "    \n",
    "    if mode is None:\n",
    "        logits = model.coef_.dot(X.T) + model.intercept_.reshape((3, 1))\n",
    "        Y_probs = softmax(logits).T\n",
    "    \n",
    "    elif mode == 'bin':\n",
    "        logits = model.coef_.dot(X.T) + model.intercept_\n",
    "        Y_probs = softmax(logits).T\n",
    "\n",
    "    else:\n",
    "        raise NotImplementedError        \n",
    "\n",
    "    return Y_probs\n",
    "\n",
    "# Trouver le nombre minimum de samples par classe\n",
    "def split_balanced_data(X, Y=Y, test_size=0.66, random_state=10):\n",
    "\n",
    "    X_train_unb, X_test_unb, Y_train_unb, Y_test_unb = train_test_split(X, Y, stratify=Y, test_size=test_size, random_state=random_state)\n",
    "    min_samples_per_class = min(Y_train_unb.value_counts())\n",
    "\n",
    "    X_train_list, X_test_list, Y_train_list, Y_test_list = [], [X_test_unb], [], [Y_test_unb]\n",
    "    for class_label in Y.unique():\n",
    "        \n",
    "        X_train_c_balanced = X_train_unb[Y == class_label][:min_samples_per_class]\n",
    "        X_rest_train_c = X_train_unb[Y == class_label][min_samples_per_class:]\n",
    "        Y_train_c_balanced = Y_train_unb[Y == class_label][:min_samples_per_class]\n",
    "        Y_rest_train_c = Y_train_unb[Y == class_label][min_samples_per_class:]\n",
    "\n",
    "        # Sélectionner un sous-ensemble avec le nombre minimum de samples par classe\n",
    "        X_train_list.append(X_train_c_balanced)\n",
    "        Y_train_list.append(Y_train_c_balanced)\n",
    "        \n",
    "        X_test_list.append(X_rest_train_c)\n",
    "        Y_test_list.append(Y_rest_train_c)\n",
    "        \n",
    "    # Concaténer les données des différentes classes pour former l'ensemble d'entraînement et l'ensemble de test\n",
    "    X_train = pd.concat(X_train_list)\n",
    "    X_test = pd.concat(X_test_list)\n",
    "    Y_train = pd.concat(Y_train_list)\n",
    "    Y_test = pd.concat(Y_test_list)\n",
    "\n",
    "    return X_train, X_test, Y_train, Y_test"
   ]
  },
  {
   "cell_type": "code",
   "execution_count": 12,
   "metadata": {},
   "outputs": [],
   "source": [
    "# fill teams raw counts data, don't need to fill ratings data\n",
    "data_home_team = data_home_team.fillna(data_home_team.mean(numeric_only=True))\n",
    "data_away_team = data_away_team.fillna(data_away_team.mean(numeric_only=True))\n",
    "\n",
    "data_test_home_team = data_test_home_team.fillna(data_test_home_team.mean(numeric_only=True))\n",
    "data_test_away_team = data_test_away_team.fillna(data_test_away_team.mean(numeric_only=True))"
   ]
  },
  {
   "cell_type": "code",
   "execution_count": 13,
   "metadata": {},
   "outputs": [
    {
     "name": "stdout",
     "output_type": "stream",
     "text": [
      "6\n",
      "32\n",
      "48\n",
      "4\n"
     ]
    }
   ],
   "source": [
    "# WDL vars\n",
    "base_columns_of_interest1 = ['TEAM_GAME_WON_season',\n",
    "                       'TEAM_GAME_DRAW_season',\n",
    "                       'TEAM_GAME_LOST_season',\n",
    "                       'TEAM_GAME_WON_5_last_match',\n",
    "                       'TEAM_GAME_DRAW_5_last_match',\n",
    "                       'TEAM_GAME_LOST_5_last_match']\n",
    "\n",
    "columns_of_interest_group1 = [col + '_sum' for col in base_columns_of_interest1]\n",
    "\n",
    "# off vars and game\n",
    "base_columns_of_interest2 = [\n",
    "\"TEAM_SHOTS_TOTAL\",\n",
    "\"TEAM_SHOTS_INSIDEBOX\",\n",
    "\"TEAM_SHOTS_ON_TARGET\",\n",
    "\"TEAM_ATTACKS\",\n",
    "\"TEAM_PENALTIES\",\n",
    "\"TEAM_DANGEROUS_ATTACKS\",\n",
    "\"TEAM_CORNERS\",\n",
    "\"TEAM_GOALS\",\n",
    "#\"TEAM_PASSES\",\n",
    "#\"TEAM_SUCCESSFUL_PASSES\",\n",
    "#\"TEAM_SUCCESSFUL_PASSES_PERCENTAGE\",\n",
    "#\"TEAM_SUBSTITUTIONS\",\n",
    "#\"TEAM_BALL_POSSESSION\"\n",
    "]\n",
    "\n",
    "suffix = ['_season_average', '_season_std', '_5_last_match_average', '_5_last_match_std']\n",
    "columns_of_interest_group2 = [base_column+suf for suf in suffix for base_column in base_columns_of_interest2]\n",
    "\n",
    "# def vars and/or game vars\n",
    "base_columns_of_interest3 = [\n",
    "\"TEAM_SAVES\",\n",
    "\"TEAM_FOULS\",\n",
    "\"TEAM_YELLOWCARDS\",\n",
    "\"TEAM_REDCARDS\",\n",
    "\"TEAM_OFFSIDES\",\n",
    "\"TEAM_BALL_SAFE\",\n",
    "\"TEAM_INJURIES\",\n",
    "\"TEAM_PASSES\",\n",
    "\"TEAM_SUCCESSFUL_PASSES\",\n",
    "\"TEAM_SUCCESSFUL_PASSES_PERCENTAGE\",\n",
    "\"TEAM_SUBSTITUTIONS\",\n",
    "\"TEAM_BALL_POSSESSION\"\n",
    "]\n",
    "columns_of_interest_group3 = [base_column+suf for suf in suffix for base_column in base_columns_of_interest3]\n",
    "\n",
    "columns_of_interest_group4 = [\n",
    "                    'PLAYER_RATING_season_average',\n",
    "                    'PLAYER_RATING_season_std',\n",
    "                    'PLAYER_RATING_5_last_match_average',\n",
    "                    'PLAYER_RATING_5_last_match_std'\n",
    "                    ]\n",
    "\n",
    "print(len(columns_of_interest_group1))\n",
    "print(len(columns_of_interest_group2))\n",
    "print(len(columns_of_interest_group3))\n",
    "print(len(columns_of_interest_group4))"
   ]
  },
  {
   "cell_type": "markdown",
   "metadata": {},
   "source": [
    "### Expert 1, 2, 3"
   ]
  },
  {
   "cell_type": "code",
   "execution_count": 14,
   "metadata": {},
   "outputs": [
    {
     "name": "stdout",
     "output_type": "stream",
     "text": [
      "(12303, 32) (12303,)\n"
     ]
    }
   ],
   "source": [
    "columns_of_interest = columns_of_interest_group2[:]\n",
    "X = data_home_team[columns_of_interest]- data_away_team[columns_of_interest]\n",
    "\n",
    "print(X.shape, Y.shape)"
   ]
  },
  {
   "cell_type": "code",
   "execution_count": 15,
   "metadata": {},
   "outputs": [],
   "source": [
    "X_train, X_test, Y_train, Y_test = train_test_split(X,\n",
    "                                                    Y,\n",
    "                                                    stratify=Y,\n",
    "                                                    test_size=0.66,\n",
    "                                                    random_state=10\n",
    "                                                    )"
   ]
  },
  {
   "cell_type": "code",
   "execution_count": 16,
   "metadata": {},
   "outputs": [
    {
     "name": "stdout",
     "output_type": "stream",
     "text": [
      "0.48983982787473107\n",
      "0.48460591133004927\n"
     ]
    }
   ],
   "source": [
    "model = LogisticRegression()\n",
    "model.fit(X_train, Y_train)\n",
    "\n",
    "print(model.score(X_train, Y_train))\n",
    "print(model.score(X_test, Y_test))"
   ]
  },
  {
   "cell_type": "code",
   "execution_count": 17,
   "metadata": {},
   "outputs": [],
   "source": [
    "def expert(columns_of_interest, test_size=0.66, random_state=50, expert_idx=None):\n",
    "\n",
    "    if expert_idx is None: \n",
    "        X = data_home_team[columns_of_interest]- data_away_team[columns_of_interest]\n",
    "    else:\n",
    "        X = data_home_team_ratings[columns_of_interest] - data_away_team_ratings[columns_of_interest]\n",
    "        \n",
    "    X_train, X_test, Y_train, Y_test = train_test_split(X,\n",
    "                                                        Y,\n",
    "                                                        stratify=Y,\n",
    "                                                        test_size=test_size,\n",
    "                                                        random_state=random_state\n",
    "                                                        )\n",
    "    model = LogisticRegression()\n",
    "    model.fit(X_train, Y_train)        \n",
    "\n",
    "    return X_test, Y_test, model, model.score(X_train, Y_train), model.score(X_test, Y_test)"
   ]
  },
  {
   "cell_type": "code",
   "execution_count": 18,
   "metadata": {},
   "outputs": [],
   "source": [
    "scores_expert = np.zeros((4, 2))"
   ]
  },
  {
   "cell_type": "code",
   "execution_count": 19,
   "metadata": {},
   "outputs": [],
   "source": [
    "X_test1, Y_test1, model1, scores_expert[0, 0], scores_expert[0, 1] = expert(columns_of_interest_group1)\n",
    "X_test2, Y_test2, model2, scores_expert[1, 0], scores_expert[1, 1] = expert(columns_of_interest_group2)\n",
    "X_test3, Y_test3, model3, scores_expert[2, 0], scores_expert[2, 1] = expert(columns_of_interest_group3)\n",
    "X_test4, Y_test4, model4, scores_expert[3, 0], scores_expert[3, 1] = expert(columns_of_interest_group4, expert_idx=4)"
   ]
  },
  {
   "cell_type": "code",
   "execution_count": 20,
   "metadata": {},
   "outputs": [
    {
     "data": {
      "text/plain": [
       "array([[0.4726273 , 0.48115764],\n",
       "       [0.4809945 , 0.48743842],\n",
       "       [0.48147263, 0.46908867],\n",
       "       [0.45661009, 0.46490148]])"
      ]
     },
     "execution_count": 20,
     "metadata": {},
     "output_type": "execute_result"
    }
   ],
   "source": [
    "scores_expert"
   ]
  },
  {
   "cell_type": "code",
   "execution_count": 21,
   "metadata": {},
   "outputs": [],
   "source": [
    "Y_pred1 = model1.predict(X_test1)\n",
    "Y_pred2 = model2.predict(X_test2)\n",
    "Y_pred3 = model3.predict(X_test3)\n",
    "Y_pred4 = model4.predict(X_test4)"
   ]
  },
  {
   "cell_type": "code",
   "execution_count": 43,
   "metadata": {},
   "outputs": [
    {
     "data": {
      "image/png": "[encoded data removed]",
      "text/plain": [
       "<Figure size 2000x1200 with 8 Axes>"
      ]
     },
     "metadata": {},
     "output_type": "display_data"
    }
   ],
   "source": [
    "cms = [confusion_matrix(Y_test1, Y_pred1),\n",
    "       confusion_matrix(Y_test2, Y_pred2),\n",
    "       confusion_matrix(Y_test3, Y_pred3),\n",
    "       confusion_matrix(Y_test4, Y_pred4)\n",
    "       ]\n",
    "\n",
    "cms_dict={0:\"Offensive Features\",1:\"Defensive Features\",2:\" Match Features \",3:\" Rating Features\"}\n",
    "\n",
    "# Labels des classes\n",
    "classes = ['Class -1', 'Class 0', 'Class 1']\n",
    "\n",
    "# Créer le graphique de la matrice de confusion\n",
    "plt.figure(figsize=(20, 12))\n",
    "for idx, cm in enumerate(cms):\n",
    "    plt.subplot(2,2,idx+1)\n",
    "    sns.set(font_scale=1.2)  # Réglage de la taille de police\n",
    "    sns.heatmap(cm, annot=True, fmt='d', cmap='Blues', xticklabels=classes, yticklabels=classes)\n",
    "\n",
    "    # Ajouter des labels et un titre\n",
    "    plt.xlabel('Predicted Labels')\n",
    "    plt.ylabel('True Labels')\n",
    "    plt.title(f'Confusion Matrix {cms_dict[idx]}')\n",
    "\n",
    "plt.show()"
   ]
  },
  {
   "cell_type": "code",
   "execution_count": 23,
   "metadata": {},
   "outputs": [],
   "source": [
    "def experts_agregator_n4(alls, experts_acc):\n",
    "    \"\"\"\n",
    "    same function with four experts\n",
    "    \"\"\"\n",
    "\n",
    "    agreement_distrib = np.zeros((alls.shape[1]))\n",
    "    for sample in range(alls.shape[1]):\n",
    "        unique = np.unique(alls[:, sample], return_counts=True)[1].max()\n",
    "        agreement_distrib[sample] = unique\n",
    "\n",
    "    prediction = np.zeros((alls.shape[1],))\n",
    "    for idx, unique in enumerate(agreement_distrib):\n",
    "        if unique == 4:\n",
    "            prediction[idx] = alls[0, idx]\n",
    "        else:\n",
    "            unique_preds = np.unique(alls[:, idx], return_counts=True)\n",
    "            if unique == 1:\n",
    "                prediction[idx] = alls[0, idx]\n",
    "            elif unique == 3:\n",
    "                majority_class = unique_preds[0][unique_preds[1].argmax()]\n",
    "                prediction[idx] = majority_class\n",
    "            else:\n",
    "                if len(unique_preds[0]) == 2: # vote [2,2]\n",
    "                    acc_group0 = sum([experts_acc[i] for i in range(4) if alls[i, idx] == unique_preds[0][0]])/2\n",
    "                    acc_group1 = sum([experts_acc[i] for i in range(4) if alls[i, idx] == unique_preds[0][1]])/2\n",
    "                    if acc_group0 > acc_group1:\n",
    "                        prediction[idx] = unique_preds[0][0]\n",
    "                    else:\n",
    "                        prediction[idx] = unique_preds[0][1]\n",
    "                else: #vote [2,1, 1]\n",
    "                    majority_class = unique_preds[0][unique_preds[1].argmax()]\n",
    "                    prediction[idx] = majority_class\n",
    "\n",
    "    return agreement_distrib, prediction\n",
    "\n",
    "def experts_agregator_n3(alls):\n",
    "    \"\"\"\n",
    "    same function with four experts\n",
    "    \"\"\"\n",
    "\n",
    "    agreement_distrib = np.zeros((alls.shape[1]))\n",
    "    for sample in range(alls.shape[1]):\n",
    "        unique = np.unique(alls[:, sample], return_counts=True)[1].max()\n",
    "        agreement_distrib[sample] = unique\n",
    "\n",
    "    prediction = np.zeros((alls.shape[1],))\n",
    "    for idx, unique in enumerate(agreement_distrib):\n",
    "        if unique == 3 or unique==1: # les 3 experts sont d'accord/ont des avis différents\n",
    "            prediction[idx] = alls[0, idx] # vote maj/priorité au 1er\n",
    "        else: # 2 contre 1\n",
    "            unique_preds = np.unique(alls[:, idx], return_counts=True)\n",
    "            majority_class = unique_preds[0][unique_preds[1].argmax()]\n",
    "            prediction[idx] = majority_class # vote majoritaire\n",
    "\n",
    "    return agreement_distrib, prediction"
   ]
  },
  {
   "cell_type": "code",
   "execution_count": 24,
   "metadata": {},
   "outputs": [
    {
     "data": {
      "text/plain": [
       "array([1, 0, 2, 3])"
      ]
     },
     "execution_count": 24,
     "metadata": {},
     "output_type": "execute_result"
    }
   ],
   "source": [
    "(-scores_expert[:, 1]).argsort()"
   ]
  },
  {
   "cell_type": "code",
   "execution_count": 25,
   "metadata": {},
   "outputs": [],
   "source": [
    "alls = np.vstack((Y_pred2, Y_pred1, Y_pred3, Y_pred4))\n",
    "experts_acc = -np.sort(-scores_expert[:, 1])"
   ]
  },
  {
   "cell_type": "code",
   "execution_count": 26,
   "metadata": {},
   "outputs": [
    {
     "data": {
      "text/plain": [
       "array([0.48743842, 0.48115764, 0.46908867, 0.46490148])"
      ]
     },
     "execution_count": 26,
     "metadata": {},
     "output_type": "execute_result"
    }
   ],
   "source": [
    "experts_acc"
   ]
  },
  {
   "cell_type": "code",
   "execution_count": 27,
   "metadata": {},
   "outputs": [],
   "source": [
    "_, Y_pred_Mo4E = experts_agregator_n4(alls, experts_acc)\n",
    "_, Y_pred_Mo3E = experts_agregator_n3(alls[:3])"
   ]
  },
  {
   "cell_type": "code",
   "execution_count": 28,
   "metadata": {},
   "outputs": [
    {
     "name": "stdout",
     "output_type": "stream",
     "text": [
      "0.492487684729064\n",
      "0.49088669950738917\n"
     ]
    }
   ],
   "source": [
    "print((Y_pred_Mo4E == Y_test1).sum()/len(Y_test1))\n",
    "print((Y_pred_Mo3E == Y_test1).sum()/len(Y_test1))"
   ]
  },
  {
   "cell_type": "markdown",
   "metadata": {},
   "source": [
    "#### prediction on real data"
   ]
  },
  {
   "cell_type": "code",
   "execution_count": 29,
   "metadata": {},
   "outputs": [],
   "source": [
    "def expert_real_data(columns_of_interest, expert_idx=None):\n",
    "\n",
    "    if expert_idx is None: \n",
    "        X = data_home_team[columns_of_interest]- data_away_team[columns_of_interest]\n",
    "        X_test = data_test_home_team[columns_of_interest] - data_test_away_team[columns_of_interest]\n",
    "    else:\n",
    "        X = data_home_team_ratings[columns_of_interest] - data_away_team_ratings[columns_of_interest]\n",
    "        X_test = data_test_home_team_ratings[columns_of_interest] - data_test_away_team_ratings[columns_of_interest]\n",
    "\n",
    "    if expert_idx is None:        \n",
    "        model = LogisticRegression()\n",
    "        model.fit(X, Y)    \n",
    "\n",
    "        Y_pred_real = model.predict(X_test)    \n",
    "        Y_pred_train = model.predict(X)    \n",
    "    else:\n",
    "        model = SVC()\n",
    "        model.fit(X, Y)    \n",
    "\n",
    "        Y_pred_real = model.predict(X_test)    \n",
    "        Y_pred_train = model.predict(X)\n",
    "        \n",
    "    return Y_pred_real, Y_pred_train, model.score(X, Y)"
   ]
  },
  {
   "cell_type": "code",
   "execution_count": 30,
   "metadata": {},
   "outputs": [],
   "source": [
    "scores_all_data = np.zeros((4,))"
   ]
  },
  {
   "cell_type": "code",
   "execution_count": 31,
   "metadata": {},
   "outputs": [],
   "source": [
    "Y_pred_real1, Y_pred_train1, scores_all_data[0]  = expert_real_data(columns_of_interest_group1)\n",
    "Y_pred_real2, Y_pred_train2, scores_all_data[1]  = expert_real_data(columns_of_interest_group2)\n",
    "Y_pred_real3, Y_pred_train3, scores_all_data[2]  = expert_real_data(columns_of_interest_group3)\n",
    "Y_pred_real4, Y_pred_train4, scores_all_data[3]  = expert_real_data(columns_of_interest_group4, expert_idx=4)"
   ]
  },
  {
   "cell_type": "code",
   "execution_count": 32,
   "metadata": {},
   "outputs": [
    {
     "data": {
      "text/plain": [
       "array([0.48045192, 0.48882386, 0.48215882, 0.47598147])"
      ]
     },
     "execution_count": 32,
     "metadata": {},
     "output_type": "execute_result"
    }
   ],
   "source": [
    "scores_all_data"
   ]
  },
  {
   "cell_type": "code",
   "execution_count": 33,
   "metadata": {},
   "outputs": [],
   "source": [
    "alls = np.vstack((Y_pred_train2, Y_pred_train3, Y_pred_train1, Y_pred_train4))\n",
    "experts_acc = -np.sort(-scores_all_data)"
   ]
  },
  {
   "cell_type": "code",
   "execution_count": 34,
   "metadata": {},
   "outputs": [
    {
     "name": "stdout",
     "output_type": "stream",
     "text": [
      "0.49321303747053563\n"
     ]
    }
   ],
   "source": [
    "_, Y_pred_train_Mo4E = experts_agregator_n4(alls, experts_acc)\n",
    "print((Y_pred_train_Mo4E == Y).sum()/len(Y))"
   ]
  },
  {
   "cell_type": "markdown",
   "metadata": {},
   "source": [
    "Final test set pred"
   ]
  },
  {
   "cell_type": "code",
   "execution_count": 35,
   "metadata": {},
   "outputs": [],
   "source": [
    "alls_real = np.vstack((Y_pred_real2, Y_pred_real3, Y_pred_real1, Y_pred_real4))\n",
    "experts_acc = -np.sort(-scores_all_data)\n",
    "\n",
    "_, Y_pred_real_Mo4E = experts_agregator_n4(alls_real, experts_acc)"
   ]
  },
  {
   "cell_type": "code",
   "execution_count": 36,
   "metadata": {},
   "outputs": [
    {
     "data": {
      "text/plain": [
       "(25368,)"
      ]
     },
     "execution_count": 36,
     "metadata": {},
     "output_type": "execute_result"
    }
   ],
   "source": [
    "Y_pred_real_Mo4E.shape"
   ]
  },
  {
   "cell_type": "code",
   "execution_count": 37,
   "metadata": {},
   "outputs": [
    {
     "data": {
      "text/plain": [
       "(array([-1.,  0.,  1.]), array([ 6923,     2, 18443]))"
      ]
     },
     "execution_count": 37,
     "metadata": {},
     "output_type": "execute_result"
    }
   ],
   "source": [
    "np.unique(Y_pred_real_Mo4E, return_counts=True)"
   ]
  },
  {
   "cell_type": "code",
   "execution_count": 38,
   "metadata": {},
   "outputs": [],
   "source": [
    "np.save('submit4.npy', Y_pred_real_Mo4E)"
   ]
  },
  {
   "cell_type": "code",
   "execution_count": 39,
   "metadata": {},
   "outputs": [
    {
     "data": {
      "text/html": [
       "<div>\n",
       "<style scoped>\n",
       "    .dataframe tbody tr th:only-of-type {\n",
       "        vertical-align: middle;\n",
       "    }\n",
       "\n",
       "    .dataframe tbody tr th {\n",
       "        vertical-align: top;\n",
       "    }\n",
       "\n",
       "    .dataframe thead th {\n",
       "        text-align: right;\n",
       "    }\n",
       "</style>\n",
       "<table border=\"1\" class=\"dataframe\">\n",
       "  <thead>\n",
       "    <tr style=\"text-align: right;\">\n",
       "      <th></th>\n",
       "      <th>ID</th>\n",
       "      <th>HOME_WINS</th>\n",
       "      <th>DRAW</th>\n",
       "      <th>AWAY_WINS</th>\n",
       "    </tr>\n",
       "  </thead>\n",
       "  <tbody>\n",
       "    <tr>\n",
       "      <th>0</th>\n",
       "      <td>12303</td>\n",
       "      <td>1</td>\n",
       "      <td>0</td>\n",
       "      <td>0</td>\n",
       "    </tr>\n",
       "    <tr>\n",
       "      <th>1</th>\n",
       "      <td>12304</td>\n",
       "      <td>0</td>\n",
       "      <td>0</td>\n",
       "      <td>1</td>\n",
       "    </tr>\n",
       "    <tr>\n",
       "      <th>2</th>\n",
       "      <td>12305</td>\n",
       "      <td>1</td>\n",
       "      <td>0</td>\n",
       "      <td>0</td>\n",
       "    </tr>\n",
       "    <tr>\n",
       "      <th>3</th>\n",
       "      <td>12306</td>\n",
       "      <td>0</td>\n",
       "      <td>0</td>\n",
       "      <td>1</td>\n",
       "    </tr>\n",
       "    <tr>\n",
       "      <th>4</th>\n",
       "      <td>12307</td>\n",
       "      <td>1</td>\n",
       "      <td>0</td>\n",
       "      <td>0</td>\n",
       "    </tr>\n",
       "    <tr>\n",
       "      <th>...</th>\n",
       "      <td>...</td>\n",
       "      <td>...</td>\n",
       "      <td>...</td>\n",
       "      <td>...</td>\n",
       "    </tr>\n",
       "    <tr>\n",
       "      <th>25363</th>\n",
       "      <td>37666</td>\n",
       "      <td>0</td>\n",
       "      <td>0</td>\n",
       "      <td>1</td>\n",
       "    </tr>\n",
       "    <tr>\n",
       "      <th>25364</th>\n",
       "      <td>37667</td>\n",
       "      <td>1</td>\n",
       "      <td>0</td>\n",
       "      <td>0</td>\n",
       "    </tr>\n",
       "    <tr>\n",
       "      <th>25365</th>\n",
       "      <td>37668</td>\n",
       "      <td>1</td>\n",
       "      <td>0</td>\n",
       "      <td>0</td>\n",
       "    </tr>\n",
       "    <tr>\n",
       "      <th>25366</th>\n",
       "      <td>37669</td>\n",
       "      <td>1</td>\n",
       "      <td>0</td>\n",
       "      <td>0</td>\n",
       "    </tr>\n",
       "    <tr>\n",
       "      <th>25367</th>\n",
       "      <td>37670</td>\n",
       "      <td>1</td>\n",
       "      <td>0</td>\n",
       "      <td>0</td>\n",
       "    </tr>\n",
       "  </tbody>\n",
       "</table>\n",
       "<p>25368 rows × 4 columns</p>\n",
       "</div>"
      ],
      "text/plain": [
       "          ID  HOME_WINS  DRAW  AWAY_WINS\n",
       "0      12303          1     0          0\n",
       "1      12304          0     0          1\n",
       "2      12305          1     0          0\n",
       "3      12306          0     0          1\n",
       "4      12307          1     0          0\n",
       "...      ...        ...   ...        ...\n",
       "25363  37666          0     0          1\n",
       "25364  37667          1     0          0\n",
       "25365  37668          1     0          0\n",
       "25366  37669          1     0          0\n",
       "25367  37670          1     0          0\n",
       "\n",
       "[25368 rows x 4 columns]"
      ]
     },
     "execution_count": 39,
     "metadata": {},
     "output_type": "execute_result"
    }
   ],
   "source": [
    "Y_submit = pd.DataFrame([], columns = ['ID','HOME_WINS','DRAW','AWAY_WINS'])\n",
    "Y_submit['ID'] = data_test_home_team.ID \n",
    "\n",
    "home_wins = np.zeros(Y_pred_real_Mo4E.shape, dtype=int)\n",
    "draws = np.zeros(Y_pred_real_Mo4E.shape, dtype=int)\n",
    "away_wins = np.zeros(Y_pred_real_Mo4E.shape, dtype=int)\n",
    "\n",
    "for count, i in enumerate(Y_pred_real_Mo4E):\n",
    "    if i==1:\n",
    "        home_wins[count]=1\n",
    "    elif i==-1:\n",
    "        away_wins[count]=1\n",
    "    else:\n",
    "        draws[count]=1\n",
    "\n",
    "Y_submit['HOME_WINS'] = home_wins\n",
    "Y_submit['DRAW'] = draws\n",
    "Y_submit['AWAY_WINS'] = away_wins\n",
    "\n",
    "Y_submit"
   ]
  },
  {
   "cell_type": "code",
   "execution_count": 41,
   "metadata": {},
   "outputs": [],
   "source": [
    "Y_submit.to_csv(\"data/submissions/s4_MoE_balanced_svc_exp4.csv\", index = False)"
   ]
  },
  {
   "cell_type": "code",
   "execution_count": null,
   "metadata": {},
   "outputs": [],
   "source": []
  }
 ],
 "metadata": {
  "kernelspec": {
   "display_name": "Python 3",
   "language": "python",
   "name": "python3"
  },
  "language_info": {
   "codemirror_mode": {
    "name": "ipython",
    "version": 3
   },
   "file_extension": ".py",
   "mimetype": "text/x-python",
   "name": "python",
   "nbconvert_exporter": "python",
   "pygments_lexer": "ipython3",
   "version": "3.12.1"
  }
 },
 "nbformat": 4,
 "nbformat_minor": 2
}
