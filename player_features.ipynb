{
 "cells": [
  {
   "cell_type": "code",
   "execution_count": 1,
   "id": "d34dcd9a",
   "metadata": {},
   "outputs": [
    {
     "name": "stderr",
     "output_type": "stream",
     "text": [
      "/Users/jordan/anaconda3/envs/challengeQRT/lib/python3.12/site-packages/tqdm/auto.py:21: TqdmWarning: IProgress not found. Please update jupyter and ipywidgets. See https://ipywidgets.readthedocs.io/en/stable/user_install.html\n",
      "  from .autonotebook import tqdm as notebook_tqdm\n"
     ]
    }
   ],
   "source": [
    "%load_ext autoreload\n",
    "%autoreload 2\n",
    "\n",
    "import numpy as np\n",
    "import pandas as pd \n",
    "pd.set_option('display.max_columns', None)\n",
    "import seaborn as sns\n",
    "import matplotlib.pyplot as plt\n",
    "from sklearn.model_selection import train_test_split\n",
    "from hyperparameter_tuning import *"
   ]
  },
  {
   "cell_type": "code",
   "execution_count": 4,
   "id": "6edcbd27",
   "metadata": {},
   "outputs": [],
   "source": [
    "X_data_player_home=pd.read_csv('Train_Data/train_home_player_statistics_df.csv',index_col='ID')\n",
    "X_data_player_away=pd.read_csv('Train_Data/train_away_player_statistics_df.csv',index_col='ID')"
   ]
  },
  {
   "cell_type": "code",
   "execution_count": 5,
   "id": "7a1d0e3d",
   "metadata": {},
   "outputs": [],
   "source": [
    "def calculate_nan_percentage(dataframe):\n",
    "    # Count the number of NaN values in each column\n",
    "    nan_counts = dataframe.isna().sum()\n",
    "\n",
    "    # Calculate the percentage of NaN values in each column\n",
    "    nan_percentage = (nan_counts / len(dataframe)) * 100\n",
    "\n",
    "    return nan_percentage.sort_values(ascending=False)"
   ]
  },
  {
   "cell_type": "code",
   "execution_count": 6,
   "id": "c3c5e39d",
   "metadata": {},
   "outputs": [
    {
     "data": {
      "text/plain": [
       "PLAYER_LONG_BALLS_WON_season_std      100.000000\n",
       "PLAYER_LONG_BALLS_5_last_match_sum    100.000000\n",
       "PLAYER_SHOTS_OFF_TARGET_season_sum    100.000000\n",
       "PLAYER_CAPTAIN_season_average         100.000000\n",
       "PLAYER_LONG_BALLS_season_average      100.000000\n",
       "                                         ...    \n",
       "PLAYER_ASSISTS_season_sum               1.517216\n",
       "PLAYER_MINUTES_PLAYED_season_sum        1.517216\n",
       "TEAM_NAME                               0.000000\n",
       "PLAYER_NAME                             0.000000\n",
       "LEAGUE                                  0.000000\n",
       "Length: 306, dtype: float64"
      ]
     },
     "execution_count": 6,
     "metadata": {},
     "output_type": "execute_result"
    },
    {
     "data": {
      "image/png": "[encoded data removed]",
      "text/plain": [
       "<Figure size 640x480 with 1 Axes>"
      ]
     },
     "metadata": {},
     "output_type": "display_data"
    }
   ],
   "source": [
    "nan_value_X_data_player_home=calculate_nan_percentage(X_data_player_home)\n",
    "nan_value_X_data_player_home.hist(bins=20)\n",
    "nan_value_X_data_player_home"
   ]
  },
  {
   "cell_type": "code",
   "execution_count": 10,
   "id": "0c75b2f9",
   "metadata": {},
   "outputs": [],
   "source": [
    "columns_to_drop_X_data_player=list(nan_value_X_data_player_home[nan_value_X_data_player_home>40].index) "
   ]
  },
  {
   "cell_type": "code",
   "execution_count": 12,
   "id": "be9d12f6",
   "metadata": {},
   "outputs": [],
   "source": [
    "X_data_player_home_nona_home=X_data_player_home.drop(columns=columns_to_drop_X_data_player)\n",
    "X_data_player_home_nona_filled=X_data_player_home_nona_home.fillna(0)\n"
   ]
  },
  {
   "cell_type": "code",
   "execution_count": 14,
   "id": "e10f66cd",
   "metadata": {},
   "outputs": [],
   "source": [
    "X_data_player_away_nona_home=X_data_player_away.drop(columns=columns_to_drop_X_data_player)\n",
    "X_data_player_away_nona_filled=X_data_player_away_nona_home.fillna(0)\n"
   ]
  },
  {
   "cell_type": "code",
   "execution_count": 18,
   "id": "5c4bd983",
   "metadata": {},
   "outputs": [],
   "source": [
    "sum_columns=[col for col in X_data_player_away_nona_filled.columns if 'sum' in col]\n",
    "std_columns=[col for col in X_data_player_away_nona_filled.columns if 'std' in col]\n",
    "avg_columns=[col for col in X_data_player_away_nona_filled.columns if '_season_average' in col]"
   ]
  },
  {
   "cell_type": "code",
   "execution_count": 19,
   "id": "fb09e138",
   "metadata": {},
   "outputs": [
    {
     "data": {
      "text/plain": [
       "['PLAYER_ACCURATE_CROSSES_season_average',\n",
       " 'PLAYER_ACCURATE_PASSES_season_average',\n",
       " 'PLAYER_ACCURATE_PASSES_PERCENTAGE_season_average',\n",
       " 'PLAYER_AERIALS_WON_season_average',\n",
       " 'PLAYER_ASSISTS_season_average',\n",
       " 'PLAYER_BIG_CHANCES_CREATED_season_average',\n",
       " 'PLAYER_BIG_CHANCES_MISSED_season_average',\n",
       " 'PLAYER_BLOCKED_SHOTS_season_average',\n",
       " 'PLAYER_CLEARANCES_season_average',\n",
       " 'PLAYER_CLEARANCE_OFFLINE_season_average',\n",
       " 'PLAYER_DISPOSSESSED_season_average',\n",
       " 'PLAYER_DRIBBLED_ATTEMPTS_season_average',\n",
       " 'PLAYER_DRIBBLED_PAST_season_average',\n",
       " 'PLAYER_DUELS_LOST_season_average',\n",
       " 'PLAYER_DUELS_WON_season_average',\n",
       " 'PLAYER_ERROR_LEAD_TO_GOAL_season_average',\n",
       " 'PLAYER_FOULS_season_average',\n",
       " 'PLAYER_FOULS_DRAWN_season_average',\n",
       " 'PLAYER_GOALKEEPER_GOALS_CONCEDED_season_average',\n",
       " 'PLAYER_GOALS_season_average',\n",
       " 'PLAYER_GOALS_CONCEDED_season_average',\n",
       " 'PLAYER_HIT_WOODWORK_season_average',\n",
       " 'PLAYER_INTERCEPTIONS_season_average',\n",
       " 'PLAYER_KEY_PASSES_season_average',\n",
       " 'PLAYER_MINUTES_PLAYED_season_average',\n",
       " 'PLAYER_OFFSIDES_season_average',\n",
       " 'PLAYER_OWN_GOALS_season_average',\n",
       " 'PLAYER_PASSES_season_average',\n",
       " 'PLAYER_PENALTIES_COMMITTED_season_average',\n",
       " 'PLAYER_PENALTIES_MISSES_season_average',\n",
       " 'PLAYER_PENALTIES_SAVED_season_average',\n",
       " 'PLAYER_PENALTIES_SCORED_season_average',\n",
       " 'PLAYER_PENALTIES_WON_season_average',\n",
       " 'PLAYER_RATING_season_average',\n",
       " 'PLAYER_REDCARDS_season_average',\n",
       " 'PLAYER_SAVES_season_average',\n",
       " 'PLAYER_SAVES_INSIDE_BOX_season_average',\n",
       " 'PLAYER_SHOTS_BLOCKED_season_average',\n",
       " 'PLAYER_SHOTS_ON_TARGET_season_average',\n",
       " 'PLAYER_SHOTS_TOTAL_season_average',\n",
       " 'PLAYER_STARTING_LINEUP_season_average',\n",
       " 'PLAYER_SUCCESSFUL_DRIBBLES_season_average',\n",
       " 'PLAYER_TACKLES_season_average',\n",
       " 'PLAYER_TOTAL_CROSSES_season_average',\n",
       " 'PLAYER_TOTAL_DUELS_season_average',\n",
       " 'PLAYER_YELLOWCARDS_season_average']"
      ]
     },
     "execution_count": 19,
     "metadata": {},
     "output_type": "execute_result"
    }
   ],
   "source": [
    "avg_columns"
   ]
  },
  {
   "cell_type": "code",
   "execution_count": null,
   "id": "8345021e",
   "metadata": {},
   "outputs": [],
   "source": []
  }
 ],
 "metadata": {
  "kernelspec": {
   "display_name": "challengeQRT",
   "language": "python",
   "name": "challengeqrt"
  },
  "language_info": {
   "codemirror_mode": {
    "name": "ipython",
    "version": 3
   },
   "file_extension": ".py",
   "mimetype": "text/x-python",
   "name": "python",
   "nbconvert_exporter": "python",
   "pygments_lexer": "ipython3",
   "version": "3.12.1"
  }
 },
 "nbformat": 4,
 "nbformat_minor": 5
}
